{
 "cells": [
  {
   "cell_type": "code",
   "execution_count": 1,
   "metadata": {},
   "outputs": [
    {
     "name": "stdout",
     "output_type": "stream",
     "text": [
      "Dataset extracted to C:\\Users\\admin\\OneDrive\\Máy tính\\hand-gesture-recognition-mediapipe-main\\hand-gesture-recognition-mediapipe-main\\final_AI_test_v2\n"
     ]
    }
   ],
   "source": [
    "import os\n",
    "import zipfile\n",
    "from pathlib import Path\n",
    "zip_path = Path('C:\\\\Users\\\\admin\\\\OneDrive\\\\Máy tính\\\\hand-gesture-recognition-mediapipe-main\\\\hand-gesture-recognition-mediapipe-main\\\\final_AI_test_v2.zip')\n",
    "extract_to = Path('C:\\\\Users\\\\admin\\\\OneDrive\\\\Máy tính\\\\hand-gesture-recognition-mediapipe-main\\\\hand-gesture-recognition-mediapipe-main\\\\final_AI_test_v2')\n",
    "if zip_path.exists():\n",
    "    with zipfile.ZipFile(zip_path, 'r') as zip_ref:\n",
    "        zip_ref.extractall(extract_to)\n",
    "    print(f'Dataset extracted to {extract_to}')\n",
    "else:\n",
    "    print('ZIP file not found!')\n"
   ]
  },
  {
   "cell_type": "code",
   "execution_count": null,
   "metadata": {},
   "outputs": [],
   "source": []
  }
 ],
 "metadata": {
  "kernelspec": {
   "display_name": "py312",
   "language": "python",
   "name": "python3"
  },
  "language_info": {
   "codemirror_mode": {
    "name": "ipython",
    "version": 3
   },
   "file_extension": ".py",
   "mimetype": "text/x-python",
   "name": "python",
   "nbconvert_exporter": "python",
   "pygments_lexer": "ipython3",
   "version": "3.12.3"
  }
 },
 "nbformat": 4,
 "nbformat_minor": 2
}
